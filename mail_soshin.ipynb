{
 "cells": [
  {
   "cell_type": "markdown",
   "id": "a233ec45-4475-497f-887f-a75cf43f2dee",
   "metadata": {},
   "source": [
    "## 2025-9-18 2年生 3科目模試の模擬試験"
   ]
  },
  {
   "cell_type": "code",
   "execution_count": 1,
   "id": "677b2a6f",
   "metadata": {},
   "outputs": [
    {
     "name": "stdout",
     "output_type": "stream",
     "text": [
      "作業ディレクトリを変更しました: C:\\Users\\rehay\\Documents\\メール一括送信\n"
     ]
    }
   ],
   "source": [
    "#大学\n",
    "run_this = True\n",
    "import os\n",
    "# 変更したい作業ディレクトリのパス\n",
    "new_path = r'C:\\Users\\rehay\\Documents\\メール一括送信'\n",
    "\n",
    "# パスが存在するか確認してから変更\n",
    "if os.path.exists(new_path):\n",
    "    os.chdir(new_path)\n",
    "    print(\"作業ディレクトリを変更しました:\", os.getcwd())\n",
    "else:\n",
    "    print(\"指定したパスが存在しません\")\n"
   ]
  },
  {
   "cell_type": "code",
   "execution_count": 2,
   "id": "c0511c68-6dbf-42ef-8777-efd4848ddb58",
   "metadata": {},
   "outputs": [
    {
     "name": "stdout",
     "output_type": "stream",
     "text": [
      "作業ディレクトリを変更しました: C:\\Users\\rehay\\Documents\\back up folder\\担任用\\2025年2年生\\3科目模試の模擬試験\n"
     ]
    }
   ],
   "source": [
    "#自宅\n",
    "run_this = True\n",
    "import os\n",
    "# 変更したい作業ディレクトリのパス\n",
    "new_path = r'C:\\Users\\rehay\\Documents\\back up folder\\担任用\\2025年2年生\\3科目模試の模擬試験'\n",
    "\n",
    "# パスが存在するか確認してから変更\n",
    "if os.path.exists(new_path):\n",
    "    os.chdir(new_path)\n",
    "    print(\"作業ディレクトリを変更しました:\", os.getcwd())\n",
    "else:\n",
    "    print(\"指定したパスが存在しません\")"
   ]
  },
  {
   "cell_type": "code",
   "execution_count": null,
   "id": "cc837b20",
   "metadata": {},
   "outputs": [],
   "source": [
    "import pandas as pd\n",
    "\n",
    "# Excelファイルの読み込み\n",
    "df = pd.read_csv(\"result.csv\")\n",
    "print(df)"
   ]
  },
  {
   "cell_type": "code",
   "execution_count": 5,
   "id": "c6ae8869-b277-4c20-89ca-1092a5d1f189",
   "metadata": {},
   "outputs": [
    {
     "name": "stdout",
     "output_type": "stream",
     "text": [
      "id | name | mail | test_1 | test_2\n",
      "sum\n"
     ]
    }
   ],
   "source": [
    "# 横に並べて表示（ベクトルのように）\n",
    "cols = list(df.columns)\n",
    "for i in range(0, len(cols), 5):\n",
    "    print(\" | \".join(cols[i:i+5]))"
   ]
  },
  {
   "cell_type": "code",
   "execution_count": 6,
   "id": "d5f5f191",
   "metadata": {},
   "outputs": [
    {
     "data": {
      "image/png": "[encoded data removed]",
      "text/plain": [
       "<Figure size 1200x400 with 3 Axes>"
      ]
     },
     "metadata": {},
     "output_type": "display_data"
    }
   ],
   "source": [
    "import pandas as pd\n",
    "import matplotlib.pyplot as plt\n",
    "\n",
    "columns_to_plot = ['test_1', 'test_2', 'sum']\n",
    "\n",
    "plt.figure(figsize=(12, 4))\n",
    "\n",
    "for i, col in enumerate(columns_to_plot, 1):\n",
    "    # 数値型に変換（エラーになる値はNaNに）\n",
    "    numeric_data = pd.to_numeric(df[col], errors='coerce').dropna()\n",
    "\n",
    "    # binの範囲を計算（2刻み）\n",
    "    bin_min = int(numeric_data.min())\n",
    "    bin_max = int(numeric_data.max()) + 2\n",
    "    bins = range(bin_min, bin_max, 2)\n",
    "\n",
    "    plt.subplot(1, 3, i)\n",
    "    plt.hist(numeric_data, bins=bins, edgecolor='black')\n",
    "    plt.title(f'Histogram of {col}')\n",
    "    plt.xlabel(col)\n",
    "    plt.ylabel('Frequency')\n",
    "\n",
    "plt.tight_layout()\n",
    "plt.show()\n"
   ]
  },
  {
   "cell_type": "code",
   "execution_count": 7,
   "id": "ef83ae6c",
   "metadata": {},
   "outputs": [
    {
     "name": "stdout",
     "output_type": "stream",
     "text": [
      "\n",
      "Stem-and-leaf plot for test_1\n",
      "0 | 9 9 9 9\n",
      "1 | 0 0 0 1 1 2 2 2 3 3 3 3 3 4 4 4 4 4 4 4 4 5 5 5 5 6 6 6 6 6 7 7 7 8 8 9 9\n",
      "2 | 0 0 1 1 1 2 4 4 6\n",
      "3 | 0 4\n",
      "5 | 0 0\n",
      "\n",
      "Stem-and-leaf plot for test_2\n",
      "0 | 5 6 7 7 8 9 9 9 9\n",
      "1 | 0 0 0 0 1 2 2 2 2 2 2 2 2 3 3 3 3 3 4 4 4 5 5 5 5 5 5 5 6 6 7 7 8 8 8 9 9 9\n",
      "2 | 1 2 2 5\n",
      "3 | 5\n",
      "5 | 0 0\n",
      "\n",
      "Stem-and-leaf plot for sum\n",
      "0 | 0\n",
      "1 | 6 8 9\n",
      "2 | 0 0 1 1 3 3 3 3 4 4 4 4 4 5 5 5 6 6 6 6 7 7 7 7 8 8 9 9 9 9\n",
      "3 | 0 0 1 2 3 4 4 5 6 8 8\n",
      "4 | 0 2 3 3 5 5\n",
      "5 | 5\n",
      "6 | 9\n",
      "10 | 0 0\n"
     ]
    }
   ],
   "source": [
    "import pandas as pd\n",
    "\n",
    "def stem_leaf_plot(data, col):\n",
    "    print(f\"\\nStem-and-leaf plot for {col}\")\n",
    "    numeric_data = pd.to_numeric(data[col], errors='coerce').dropna().astype(int)\n",
    "    stems = {}\n",
    "    for num in numeric_data:\n",
    "        stem, leaf = divmod(num, 10)\n",
    "        stems.setdefault(stem, []).append(leaf)\n",
    "\n",
    "    for stem in sorted(stems):\n",
    "        leaves = ' '.join(str(leaf) for leaf in sorted(stems[stem]))\n",
    "        print(f\"{stem} | {leaves}\")\n",
    "\n",
    "# 対象の連続変数\n",
    "columns_to_plot = ['test_1', 'test_2', 'sum']\n",
    "\n",
    "for col in columns_to_plot:\n",
    "    stem_leaf_plot(df, col)\n"
   ]
  },
  {
   "cell_type": "code",
   "execution_count": null,
   "id": "d2120efa",
   "metadata": {},
   "outputs": [],
   "source": [
    "import pandas as pd\n",
    "import win32com.client as win32\n",
    "# Outlookのアプリケーションを起動\n",
    "outlook = win32.Dispatch('outlook.application')\n",
    "\n",
    "# 各行に対してメールを送信\n",
    "for index, row in df.iterrows():\n",
    "    name = row['name']\n",
    "    email = row['mail']\n",
    "    test_1 = row['test_1']\n",
    "    test_2 = row['test_2']\n",
    "    total = row['sum']\n",
    "\n",
    "    # メールの作成\n",
    "    mail = outlook.CreateItem(0)\n",
    "    mail.To = email\n",
    "    mail.Subject = \"3科目模試（予備試験）の結果\"\n",
    "    mail.Body = (\n",
    "        f\"{name}さん\\n\\n\"\n",
    "        f\"9月18日実施\\n3科目模試（予備試験）の結果をお知らせします\\n\"\n",
    "        f\"前半: {test_1} /50点\\n\"\n",
    "        f\"後半: {test_2} /50点\\n\"\n",
    "        f\"合計: {total} /100点\\n\\n\"\n",
    "        \"クラスの得点分布はTeamsをご確認ください\\n\"\n",
    "        \"お疲れさまでした\\n\\n\"\n",
    "        \"---\\n\"\n",
    "        \"九州看護福祉大学\\n\"\n",
    "        \"吉田 勇一\"\n",
    "    )\n",
    "\n",
    "    # メール送信（下書きに保存したい場合は mail.Save() に変更）\n",
    "    #\n",
    "    # \n",
    "    # \n",
    "    #mail.Send()\n"
   ]
  }
 ],
 "metadata": {
  "kernelspec": {
   "display_name": "base",
   "language": "python",
   "name": "python3"
  },
  "language_info": {
   "codemirror_mode": {
    "name": "ipython",
    "version": 3
   },
   "file_extension": ".py",
   "mimetype": "text/x-python",
   "name": "python",
   "nbconvert_exporter": "python",
   "pygments_lexer": "ipython3",
   "version": "3.13.5"
  }
 },
 "nbformat": 4,
 "nbformat_minor": 5
}
